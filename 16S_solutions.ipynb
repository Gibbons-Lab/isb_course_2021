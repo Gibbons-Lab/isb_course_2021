{
  "nbformat": 4,
  "nbformat_minor": 0,
  "metadata": {
    "colab": {
      "name": "16S_solutions.ipynb",
      "provenance": [],
      "collapsed_sections": [],
      "include_colab_link": true
    },
    "kernelspec": {
      "display_name": "Python 3",
      "name": "python3"
    }
  },
  "cells": [
    {
      "cell_type": "markdown",
      "metadata": {
        "id": "view-in-github",
        "colab_type": "text"
      },
      "source": [
        "<a href=\"https://colab.research.google.com/github/Gibbons-Lab/isb_course_2021/blob/main/16S_solutions.ipynb\" target=\"_parent\"><img src=\"https://colab.research.google.com/assets/colab-badge.svg\" alt=\"Open In Colab\"/></a>"
      ]
    },
    {
      "cell_type": "markdown",
      "metadata": {
        "id": "nQRlv0ypvthh"
      },
      "source": [
        "# 🦠 Amplicon Sequencing Data Analysis with Qiime 2\n",
        "\n",
        "This notebook will accompany the first session of the 2021 ISB Virtual Microbiome Series. The presentation slides can be [found here](https://gibbons-lab.github.io/isb_course_2021/16S). \n",
        "\n",
        "Save your own local copy of this notebook by using `File > Save a copy in Drive`. At some point you may be promted to trust the notebook. We promise that it is safe 🤞\n",
        "\n",
        "**Disclaimer:**\n",
        "\n",
        "The Google Colab notebook environment will interpret any command as Python code by default. If we want to run bash commands we will have to prefix them by `!`. So any command you see with a leading `!` is a bash command and if you wanted to run it in your terminal you would omit the leading `!`. For example, if in the Colab notebook you ran `!wget` you would just run `wget` in your terminal. \n",
        "\n",
        "## Setup\n",
        "\n",
        "QIIME 2 is usually installed by following the [official installation instructions](https://docs.qiime2.org/2021.8/install/). However, because we are using Google Colab and there are some caveats to using conda here, we will have to hack around the installation a little bit. But no worries, we provide a setup script below which does all this work for us. 😌 \n",
        "\n",
        "So...let's start by pulling a local copy of the project repository down from GitHub."
      ]
    },
    {
      "cell_type": "code",
      "metadata": {
        "id": "QFsZdvOuvZmq",
        "colab": {
          "base_uri": "https://localhost:8080/"
        },
        "outputId": "6561bdfa-ab24-44eb-eb26-03e00f708371"
      },
      "source": [
        "!git clone https://github.com/gibbons-lab/isb_course_2021 materials"
      ],
      "execution_count": null,
      "outputs": [
        {
          "output_type": "stream",
          "name": "stdout",
          "text": [
            "Cloning into 'materials'...\n",
            "remote: Enumerating objects: 1212, done.\u001b[K\n",
            "remote: Counting objects: 100% (1212/1212), done.\u001b[K\n",
            "remote: Compressing objects: 100% (840/840), done.\u001b[K\n",
            "remote: Total 1212 (delta 443), reused 1066 (delta 324), pack-reused 0\u001b[K\n",
            "Receiving objects: 100% (1212/1212), 162.47 MiB | 32.74 MiB/s, done.\n",
            "Resolving deltas: 100% (443/443), done.\n",
            "Checking out files: 100% (710/710), done.\n"
          ]
        }
      ]
    },
    {
      "cell_type": "markdown",
      "metadata": {
        "id": "2eenIEY76mcv"
      },
      "source": [
        "We will switch to working within the `materials` directory for the rest of the notebook."
      ]
    },
    {
      "cell_type": "code",
      "metadata": {
        "id": "h3NALJ7u6mBP",
        "colab": {
          "base_uri": "https://localhost:8080/"
        },
        "outputId": "910c3787-dcfa-430d-d48c-d97f132e8b25"
      },
      "source": [
        "%cd materials"
      ],
      "execution_count": null,
      "outputs": [
        {
          "output_type": "stream",
          "name": "stdout",
          "text": [
            "/content/materials\n"
          ]
        }
      ]
    },
    {
      "cell_type": "markdown",
      "metadata": {
        "id": "fQVnDjFauZ-n"
      },
      "source": [
        "Now we are ready to set up our environment. This will take about 10-15 minutes. \n",
        "\n",
        "**Note**: This setup is only relevant for Google Colaboratory and will not work on your local machine. Please follow the [official installation instructions](https://docs.qiime2.org/2021.8/install/) for that."
      ]
    },
    {
      "cell_type": "code",
      "metadata": {
        "id": "BAyTazMCvrpf",
        "colab": {
          "base_uri": "https://localhost:8080/",
          "height": 272
        },
        "outputId": "7c696b03-fca1-4457-eb24-f1f25b0dbc90"
      },
      "source": [
        "%run setup_qiime2"
      ],
      "execution_count": null,
      "outputs": [
        {
          "output_type": "display_data",
          "data": {
            "text/html": [
              "<pre style=\"white-space:pre;overflow-x:auto;line-height:normal;font-family:Menlo,'DejaVu Sans Mono',consolas,'Courier New',monospace\"><span style=\"color: #7fbfbf; text-decoration-color: #7fbfbf\">[19:05:02] </span>🐍 Downloading miniconda<span style=\"color: #808000; text-decoration-color: #808000\">...</span>                                        <a href=\"file:///content/materials/setup_qiime2\"><span style=\"color: #7f7f7f; text-decoration-color: #7f7f7f\">setup_qiime2</span></a><span style=\"color: #7f7f7f; text-decoration-color: #7f7f7f\">:56</span>\n",
              "</pre>\n"
            ],
            "text/plain": [
              "\u001b[2;36m[19:05:02]\u001b[0m\u001b[2;36m \u001b[0m🐍 Downloading miniconda\u001b[33m...\u001b[0m                                        \u001b]8;id=314342;file:///content/materials/setup_qiime2\u001b\\\u001b[2msetup_qiime2\u001b[0m\u001b]8;;\u001b\\\u001b[2m:56\u001b[0m\n"
            ]
          },
          "metadata": {}
        },
        {
          "output_type": "display_data",
          "data": {
            "text/html": [
              "<pre style=\"white-space:pre;overflow-x:auto;line-height:normal;font-family:Menlo,'DejaVu Sans Mono',consolas,'Courier New',monospace\"><span style=\"color: #7fbfbf; text-decoration-color: #7fbfbf\">           </span><span style=\"color: #000080; text-decoration-color: #000080\">🐍 Done.</span>                                                           <a href=\"file:///content/materials/setup_qiime2\"><span style=\"color: #7f7f7f; text-decoration-color: #7f7f7f\">setup_qiime2</span></a><span style=\"color: #7f7f7f; text-decoration-color: #7f7f7f\">:62</span>\n",
              "</pre>\n"
            ],
            "text/plain": [
              "\u001b[2;36m          \u001b[0m\u001b[2;36m \u001b[0m\u001b[34m🐍 Done.\u001b[0m                                                           \u001b]8;id=359166;file:///content/materials/setup_qiime2\u001b\\\u001b[2msetup_qiime2\u001b[0m\u001b]8;;\u001b\\\u001b[2m:62\u001b[0m\n"
            ]
          },
          "metadata": {}
        },
        {
          "output_type": "display_data",
          "data": {
            "text/html": [
              "<pre style=\"white-space:pre;overflow-x:auto;line-height:normal;font-family:Menlo,'DejaVu Sans Mono',consolas,'Courier New',monospace\"><span style=\"color: #7fbfbf; text-decoration-color: #7fbfbf\">           </span>🐍 Installing miniconda<span style=\"color: #808000; text-decoration-color: #808000\">...</span>                                         <a href=\"file:///content/materials/setup_qiime2\"><span style=\"color: #7f7f7f; text-decoration-color: #7f7f7f\">setup_qiime2</span></a><span style=\"color: #7f7f7f; text-decoration-color: #7f7f7f\">:56</span>\n",
              "</pre>\n"
            ],
            "text/plain": [
              "\u001b[2;36m          \u001b[0m\u001b[2;36m \u001b[0m🐍 Installing miniconda\u001b[33m...\u001b[0m                                         \u001b]8;id=868478;file:///content/materials/setup_qiime2\u001b\\\u001b[2msetup_qiime2\u001b[0m\u001b]8;;\u001b\\\u001b[2m:56\u001b[0m\n"
            ]
          },
          "metadata": {}
        },
        {
          "output_type": "display_data",
          "data": {
            "text/html": [
              "<pre style=\"white-space:pre;overflow-x:auto;line-height:normal;font-family:Menlo,'DejaVu Sans Mono',consolas,'Courier New',monospace\"><span style=\"color: #7fbfbf; text-decoration-color: #7fbfbf\">[19:05:36] </span><span style=\"color: #000080; text-decoration-color: #000080\">🐍 Installed miniconda to `/usr/local`.</span>                            <a href=\"file:///content/materials/setup_qiime2\"><span style=\"color: #7f7f7f; text-decoration-color: #7f7f7f\">setup_qiime2</span></a><span style=\"color: #7f7f7f; text-decoration-color: #7f7f7f\">:62</span>\n",
              "</pre>\n"
            ],
            "text/plain": [
              "\u001b[2;36m[19:05:36]\u001b[0m\u001b[2;36m \u001b[0m\u001b[34m🐍 Installed miniconda to `\u001b[0m\u001b[34m/usr/\u001b[0m\u001b[34mlocal\u001b[0m\u001b[34m`.\u001b[0m                            \u001b]8;id=398905;file:///content/materials/setup_qiime2\u001b\\\u001b[2msetup_qiime2\u001b[0m\u001b]8;;\u001b\\\u001b[2m:62\u001b[0m\n"
            ]
          },
          "metadata": {}
        },
        {
          "output_type": "display_data",
          "data": {
            "text/html": [
              "<pre style=\"white-space:pre;overflow-x:auto;line-height:normal;font-family:Menlo,'DejaVu Sans Mono',consolas,'Courier New',monospace\"><span style=\"color: #7fbfbf; text-decoration-color: #7fbfbf\">           </span>🔍 Downloading Qiime <span style=\"color: #008080; text-decoration-color: #008080; font-weight: bold\">2</span> package list<span style=\"color: #808000; text-decoration-color: #808000\">...</span>                             <a href=\"file:///content/materials/setup_qiime2\"><span style=\"color: #7f7f7f; text-decoration-color: #7f7f7f\">setup_qiime2</span></a><span style=\"color: #7f7f7f; text-decoration-color: #7f7f7f\">:56</span>\n",
              "</pre>\n"
            ],
            "text/plain": [
              "\u001b[2;36m          \u001b[0m\u001b[2;36m \u001b[0m🔍 Downloading Qiime \u001b[1;36m2\u001b[0m package list\u001b[33m...\u001b[0m                             \u001b]8;id=399913;file:///content/materials/setup_qiime2\u001b\\\u001b[2msetup_qiime2\u001b[0m\u001b]8;;\u001b\\\u001b[2m:56\u001b[0m\n"
            ]
          },
          "metadata": {}
        },
        {
          "output_type": "display_data",
          "data": {
            "text/html": [
              "<pre style=\"white-space:pre;overflow-x:auto;line-height:normal;font-family:Menlo,'DejaVu Sans Mono',consolas,'Courier New',monospace\"><span style=\"color: #7fbfbf; text-decoration-color: #7fbfbf\">           </span><span style=\"color: #000080; text-decoration-color: #000080\">🔍 Done.</span>                                                           <a href=\"file:///content/materials/setup_qiime2\"><span style=\"color: #7f7f7f; text-decoration-color: #7f7f7f\">setup_qiime2</span></a><span style=\"color: #7f7f7f; text-decoration-color: #7f7f7f\">:62</span>\n",
              "</pre>\n"
            ],
            "text/plain": [
              "\u001b[2;36m          \u001b[0m\u001b[2;36m \u001b[0m\u001b[34m🔍 Done.\u001b[0m                                                           \u001b]8;id=717350;file:///content/materials/setup_qiime2\u001b\\\u001b[2msetup_qiime2\u001b[0m\u001b]8;;\u001b\\\u001b[2m:62\u001b[0m\n"
            ]
          },
          "metadata": {}
        },
        {
          "output_type": "display_data",
          "data": {
            "text/html": [
              "<pre style=\"white-space:pre;overflow-x:auto;line-height:normal;font-family:Menlo,'DejaVu Sans Mono',consolas,'Courier New',monospace\"><span style=\"color: #7fbfbf; text-decoration-color: #7fbfbf\">           </span>🔍 Installing Qiime <span style=\"color: #008080; text-decoration-color: #008080; font-weight: bold\">2</span>. This may take a little bit.                 <a href=\"file:///content/materials/setup_qiime2\"><span style=\"color: #7f7f7f; text-decoration-color: #7f7f7f\">setup_qiime2</span></a><span style=\"color: #7f7f7f; text-decoration-color: #7f7f7f\">:56</span>\n",
              "            🕐                                                                               \n",
              "</pre>\n"
            ],
            "text/plain": [
              "\u001b[2;36m          \u001b[0m\u001b[2;36m \u001b[0m🔍 Installing Qiime \u001b[1;36m2\u001b[0m. This may take a little bit.                 \u001b]8;id=999501;file:///content/materials/setup_qiime2\u001b\\\u001b[2msetup_qiime2\u001b[0m\u001b]8;;\u001b\\\u001b[2m:56\u001b[0m\n",
              "            🕐                                                                               \n"
            ]
          },
          "metadata": {}
        },
        {
          "output_type": "display_data",
          "data": {
            "text/html": [
              "<pre style=\"white-space:pre;overflow-x:auto;line-height:normal;font-family:Menlo,'DejaVu Sans Mono',consolas,'Courier New',monospace\"><span style=\"color: #7fbfbf; text-decoration-color: #7fbfbf\">[19:14:13] </span><span style=\"color: #000080; text-decoration-color: #000080\">🔍 Done.</span>                                                           <a href=\"file:///content/materials/setup_qiime2\"><span style=\"color: #7f7f7f; text-decoration-color: #7f7f7f\">setup_qiime2</span></a><span style=\"color: #7f7f7f; text-decoration-color: #7f7f7f\">:62</span>\n",
              "</pre>\n"
            ],
            "text/plain": [
              "\u001b[2;36m[19:14:13]\u001b[0m\u001b[2;36m \u001b[0m\u001b[34m🔍 Done.\u001b[0m                                                           \u001b]8;id=659544;file:///content/materials/setup_qiime2\u001b\\\u001b[2msetup_qiime2\u001b[0m\u001b]8;;\u001b\\\u001b[2m:62\u001b[0m\n"
            ]
          },
          "metadata": {}
        },
        {
          "output_type": "display_data",
          "data": {
            "text/html": [
              "<pre style=\"white-space:pre;overflow-x:auto;line-height:normal;font-family:Menlo,'DejaVu Sans Mono',consolas,'Courier New',monospace\"><span style=\"color: #7fbfbf; text-decoration-color: #7fbfbf\">           </span>🌲 Installing Empress<span style=\"color: #808000; text-decoration-color: #808000\">...</span>                                           <a href=\"file:///content/materials/setup_qiime2\"><span style=\"color: #7f7f7f; text-decoration-color: #7f7f7f\">setup_qiime2</span></a><span style=\"color: #7f7f7f; text-decoration-color: #7f7f7f\">:56</span>\n",
              "</pre>\n"
            ],
            "text/plain": [
              "\u001b[2;36m          \u001b[0m\u001b[2;36m \u001b[0m🌲 Installing Empress\u001b[33m...\u001b[0m                                           \u001b]8;id=148551;file:///content/materials/setup_qiime2\u001b\\\u001b[2msetup_qiime2\u001b[0m\u001b]8;;\u001b\\\u001b[2m:56\u001b[0m\n"
            ]
          },
          "metadata": {}
        },
        {
          "output_type": "display_data",
          "data": {
            "text/html": [
              "<pre style=\"white-space:pre;overflow-x:auto;line-height:normal;font-family:Menlo,'DejaVu Sans Mono',consolas,'Courier New',monospace\"><span style=\"color: #7fbfbf; text-decoration-color: #7fbfbf\">[19:14:57] </span><span style=\"color: #000080; text-decoration-color: #000080\">🌲 Done.</span>                                                           <a href=\"file:///content/materials/setup_qiime2\"><span style=\"color: #7f7f7f; text-decoration-color: #7f7f7f\">setup_qiime2</span></a><span style=\"color: #7f7f7f; text-decoration-color: #7f7f7f\">:62</span>\n",
              "</pre>\n"
            ],
            "text/plain": [
              "\u001b[2;36m[19:14:57]\u001b[0m\u001b[2;36m \u001b[0m\u001b[34m🌲 Done.\u001b[0m                                                           \u001b]8;id=322672;file:///content/materials/setup_qiime2\u001b\\\u001b[2msetup_qiime2\u001b[0m\u001b]8;;\u001b\\\u001b[2m:62\u001b[0m\n"
            ]
          },
          "metadata": {}
        },
        {
          "output_type": "display_data",
          "data": {
            "text/html": [
              "<pre style=\"white-space:pre;overflow-x:auto;line-height:normal;font-family:Menlo,'DejaVu Sans Mono',consolas,'Courier New',monospace\"><span style=\"color: #7fbfbf; text-decoration-color: #7fbfbf\">           </span>📊 Checking that Qiime <span style=\"color: #008080; text-decoration-color: #008080; font-weight: bold\">2</span> command line works<span style=\"color: #808000; text-decoration-color: #808000\">...</span>                     <a href=\"file:///content/materials/setup_qiime2\"><span style=\"color: #7f7f7f; text-decoration-color: #7f7f7f\">setup_qiime2</span></a><span style=\"color: #7f7f7f; text-decoration-color: #7f7f7f\">:56</span>\n",
              "</pre>\n"
            ],
            "text/plain": [
              "\u001b[2;36m          \u001b[0m\u001b[2;36m \u001b[0m📊 Checking that Qiime \u001b[1;36m2\u001b[0m command line works\u001b[33m...\u001b[0m                     \u001b]8;id=942837;file:///content/materials/setup_qiime2\u001b\\\u001b[2msetup_qiime2\u001b[0m\u001b]8;;\u001b\\\u001b[2m:56\u001b[0m\n"
            ]
          },
          "metadata": {}
        },
        {
          "output_type": "display_data",
          "data": {
            "text/html": [
              "<pre style=\"white-space:pre;overflow-x:auto;line-height:normal;font-family:Menlo,'DejaVu Sans Mono',consolas,'Courier New',monospace\"><span style=\"color: #7fbfbf; text-decoration-color: #7fbfbf\">[19:15:02] </span><span style=\"color: #000080; text-decoration-color: #000080\">📊 Qiime </span><span style=\"color: #000080; text-decoration-color: #000080; font-weight: bold\">2</span><span style=\"color: #000080; text-decoration-color: #000080\"> command line looks good 🎉</span>                              <a href=\"file:///content/materials/setup_qiime2\"><span style=\"color: #7f7f7f; text-decoration-color: #7f7f7f\">setup_qiime2</span></a><span style=\"color: #7f7f7f; text-decoration-color: #7f7f7f\">:62</span>\n",
              "</pre>\n"
            ],
            "text/plain": [
              "\u001b[2;36m[19:15:02]\u001b[0m\u001b[2;36m \u001b[0m\u001b[34m📊 Qiime \u001b[0m\u001b[1;34m2\u001b[0m\u001b[34m command line looks good 🎉\u001b[0m                              \u001b]8;id=873272;file:///content/materials/setup_qiime2\u001b\\\u001b[2msetup_qiime2\u001b[0m\u001b]8;;\u001b\\\u001b[2m:62\u001b[0m\n"
            ]
          },
          "metadata": {}
        },
        {
          "output_type": "display_data",
          "data": {
            "text/html": [
              "<pre style=\"white-space:pre;overflow-x:auto;line-height:normal;font-family:Menlo,'DejaVu Sans Mono',consolas,'Courier New',monospace\"><span style=\"color: #7fbfbf; text-decoration-color: #7fbfbf\">           </span>🧹 Cleaned up unneeded files.                                      <a href=\"file:///content/materials/setup_qiime2\"><span style=\"color: #7f7f7f; text-decoration-color: #7f7f7f\">setup_qiime2</span></a><span style=\"color: #7f7f7f; text-decoration-color: #7f7f7f\">:51</span>\n",
              "</pre>\n"
            ],
            "text/plain": [
              "\u001b[2;36m          \u001b[0m\u001b[2;36m \u001b[0m🧹 Cleaned up unneeded files.                                      \u001b]8;id=45494;file:///content/materials/setup_qiime2\u001b\\\u001b[2msetup_qiime2\u001b[0m\u001b]8;;\u001b\\\u001b[2m:51\u001b[0m\n"
            ]
          },
          "metadata": {}
        },
        {
          "output_type": "display_data",
          "data": {
            "text/html": [
              "<pre style=\"white-space:pre;overflow-x:auto;line-height:normal;font-family:Menlo,'DejaVu Sans Mono',consolas,'Courier New',monospace\"><span style=\"color: #7fbfbf; text-decoration-color: #7fbfbf\">           </span><span style=\"color: #008000; text-decoration-color: #008000\">Everything is A-OK. You can start using Qiime </span><span style=\"color: #008000; text-decoration-color: #008000; font-weight: bold\">2</span><span style=\"color: #008000; text-decoration-color: #008000\"> now 👍</span>            <a href=\"file:///content/materials/setup_qiime2\"><span style=\"color: #7f7f7f; text-decoration-color: #7f7f7f\">setup_qiime2</span></a><span style=\"color: #7f7f7f; text-decoration-color: #7f7f7f\">:159</span>\n",
              "</pre>\n"
            ],
            "text/plain": [
              "\u001b[2;36m          \u001b[0m\u001b[2;36m \u001b[0m\u001b[32mEverything is A-OK. You can start using Qiime \u001b[0m\u001b[1;32m2\u001b[0m\u001b[32m now 👍\u001b[0m            \u001b]8;id=109260;file:///content/materials/setup_qiime2\u001b\\\u001b[2msetup_qiime2\u001b[0m\u001b]8;;\u001b\\\u001b[2m:159\u001b[0m\n"
            ]
          },
          "metadata": {}
        }
      ]
    },
    {
      "cell_type": "markdown",
      "metadata": {
        "id": "BGWsqUfq5oSi"
      },
      "source": [
        "## Our first QIIME 2 command\n",
        "\n",
        "Let's remember our workflow for today.\n",
        "\n",
        "![our workflow](https://github.com/Gibbons-Lab/isb_course_2021/raw/main/docs/16S/assets/steps.png)\n",
        "\n",
        "The first thing we have to do is to get the data into an artifact.\n",
        "We can import the data with the `import` action from the tools. For that we have to give\n",
        "QIIME 2 a *manifest* (list of raw files) and tell it what *type of data* we\n",
        "are importing and what *type of artifact* we want. \n",
        "\n",
        "**QoL Tip:** QIIME 2 commands can get very long. To split them up over several lines we can use `\\` which means \"continue on the next line\"."
      ]
    },
    {
      "cell_type": "code",
      "metadata": {
        "id": "6mGgUrRf5pyb",
        "colab": {
          "base_uri": "https://localhost:8080/"
        },
        "outputId": "b820c3d2-6d8a-42fb-e662-3d845b87374f"
      },
      "source": [
        "!qiime tools import \\\n",
        "  --type 'SampleData[SequencesWithQuality]' \\\n",
        "  --input-path data/manifest.tsv \\\n",
        "  --output-path sequences.qza \\\n",
        "  --input-format SingleEndFastqManifestPhred33V2"
      ],
      "execution_count": null,
      "outputs": [
        {
          "output_type": "stream",
          "name": "stdout",
          "text": [
            "\u001b[32mImported data/manifest.tsv as SingleEndFastqManifestPhred33V2 to sequences.qza\u001b[0m\n"
          ]
        }
      ]
    },
    {
      "cell_type": "markdown",
      "metadata": {
        "id": "lw7TmzbiAoLj"
      },
      "source": [
        "Since we have quality information for the sequencing reads, let's also generate\n",
        "our first visualization to inspect sequence quality. \n",
        "\n",
        "---\n",
        "\n",
        "Qiime 2 commands can become pretty long. Here are some pointers to remember the\n",
        "structure of a command:\n",
        "\n",
        "```\n",
        "qiime plugin action --i-argument1 ... --o-argument2 ...\n",
        "```\n",
        "\n",
        "Argument types usually begin with a letter denoting their meaning:\n",
        "\n",
        "- `--i-...` = input files\n",
        "- `--o-...` = output files\n",
        "- `--p-...` = parameters\n",
        "- `--m-...` = metadata\n",
        "\n",
        "---\n",
        "\n",
        "In this case we will use the `summarize` action from the `demux` plugin with the previously generated artifact as input and output the resulting visualization to the `qualities.qzv` file."
      ]
    },
    {
      "cell_type": "code",
      "metadata": {
        "id": "feGa41cEApGs",
        "colab": {
          "base_uri": "https://localhost:8080/"
        },
        "outputId": "7de4036a-22b8-49d1-f096-cf6035db3df1"
      },
      "source": [
        "!qiime demux summarize --i-data sequences.qza --o-visualization qualities.qzv"
      ],
      "execution_count": null,
      "outputs": [
        {
          "output_type": "stream",
          "name": "stdout",
          "text": [
            "\u001b[32mSaved Visualization to: qualities.qzv\u001b[0m\n"
          ]
        }
      ]
    },
    {
      "cell_type": "markdown",
      "metadata": {
        "id": "O2GenFy3C8gu"
      },
      "source": [
        "You can view the plot by downloading the .qzv file and opening it using http://view.qiime2.org. To download the file click on the folder symbol to the left, open the `materials` folder, and choose download from the dot menu next to the `qualities.qzv` file.\n",
        "\n",
        "🤔 What do you observe across the read? Where would you truncate the reads?"
      ]
    },
    {
      "cell_type": "markdown",
      "metadata": {
        "id": "os5MeRvLIq0v"
      },
      "source": [
        "# Denoising amplicon sequence variants\n",
        "\n",
        "We will now run the DADA2 plugin which will do 3 things:\n",
        "\n",
        "1. filter and trim the reads\n",
        "2. find the most likely set of unique sequences in the sample (ASVs)\n",
        "3. remove chimeras\n",
        "4. count the abundances of each ASV\n",
        "\n",
        "\n",
        "Since this step takes a bit, let's start the process and use the time to\n",
        "understand what is happening:"
      ]
    },
    {
      "cell_type": "code",
      "metadata": {
        "id": "RdLSMp9-Dl-d",
        "colab": {
          "base_uri": "https://localhost:8080/"
        },
        "outputId": "d712e82d-343c-483a-8816-15ceb6a892fb"
      },
      "source": [
        "!qiime dada2 denoise-single \\\n",
        "    --i-demultiplexed-seqs sequences.qza \\\n",
        "    --p-trunc-len 140 \\\n",
        "    --p-n-threads 2 \\\n",
        "    --output-dir dada2 --verbose"
      ],
      "execution_count": null,
      "outputs": [
        {
          "output_type": "stream",
          "name": "stdout",
          "text": [
            "Running external command line application(s). This may print messages to stdout and/or stderr.\n",
            "The command(s) being run are below. These commands cannot be manually re-run as they will depend on temporary files that no longer exist.\n",
            "\n",
            "Command: run_dada_single.R /tmp/qiime2-archive-a67_n9ou/1d171139-81e8-4496-ba3e-c9ac75de7f79/data /tmp/tmpm2knp4ll/output.tsv.biom /tmp/tmpm2knp4ll/track.tsv /tmp/tmpm2knp4ll 140 0 2.0 2 Inf independent consensus 1.0 2 1000000 NULL 16\n",
            "\n",
            "R version 4.0.5 (2021-03-31) \n",
            "Loading required package: Rcpp\n",
            "DADA2: 1.18.0 / Rcpp: 1.0.7 / RcppParallel: 5.1.4 \n",
            "1) Filtering ...............\n",
            "2) Learning Error Rates\n",
            "119820120 total bases in 855858 reads from 15 samples will be used for learning the error rates.\n",
            "3) Denoise samples ...............\n",
            "4) Remove chimeras (method = consensus)\n",
            "5) Report read numbers through the pipeline\n",
            "6) Write output\n",
            "\u001b[32mSaved FeatureTable[Frequency] to: dada2/table.qza\u001b[0m\n",
            "\u001b[32mSaved FeatureData[Sequence] to: dada2/representative_sequences.qza\u001b[0m\n",
            "\u001b[32mSaved SampleData[DADA2Stats] to: dada2/denoising_stats.qza\u001b[0m\n"
          ]
        }
      ]
    },
    {
      "cell_type": "markdown",
      "metadata": {
        "id": "aFpQQ5GHdbzX"
      },
      "source": [
        "If this step takes too long or fails, you can also copy the results from the treasure chest. **However, don't run the next cell if the previous cell completed successfully.**"
      ]
    },
    {
      "cell_type": "code",
      "metadata": {
        "id": "PFrfo-uCdoRz"
      },
      "source": [
        "# obscure magic that will only copy if the previous command failed\n",
        "![ -d dada2 ] || cp -r treasure_chest/dada2 ."
      ],
      "execution_count": null,
      "outputs": []
    },
    {
      "cell_type": "markdown",
      "metadata": {
        "id": "4YzrovxVj7U_"
      },
      "source": [
        "Ok, this step ran, but we should also make sure it kind of worked. One good way to tell if the identified ASVs are representative of the sample is to see how many reads were maintained throughout the pipeline. Here, the most common issues and solutions are:\n",
        "\n",
        "**Large fraction of reads is lost during merging (only paired-end)**\n",
        "\n",
        "![read overlap](https://gibbons-lab.github.io/isb_course_2020/16S/assets/read_overlap.png)\n",
        "\n",
        "In order to merge ASVs DADA2 uses an overlap of 12 bases between forward and reverse reads by default. Thus, your reads must allow for sufficient overlap *after* trimming. So if your amplified region is 450bp long and you have 2x250bp reads and you trim the last 30 bases of each read, truncating the length to 220bp, the total length of covered sequence is 2x220 = 440 which is shorter than 450bp so there will be no overlap. To solve this issue trim less of the reads or adjust the `--p-min-overlap` parameters to something lower (but not too low).\n",
        "\n",
        "<br>\n",
        "\n",
        "**Most of the reads are lost as chimeric**\n",
        "\n",
        "![read overlap](https://gibbons-lab.github.io/isb_course_2020/16S/assets/chimera.png)\n",
        "\n",
        "This is usualluy an experimental issue as chimeras are introduced during amplification. If you can adjust your PCR, try to run fewer cycles. Chimeras can also be introduced by incorrect merging. If your minimum overlap is too small ASVs may be merged randomly. Possible fixes are to increase the `--p-min-overlap` parameter or run the analysis on the forward reads only (in our empirical observations, chimeras are more likely to be introduced in the joined reads). *However, losing between 5-25% of your reads to chimeras is normal and does not require any adjustments.*\n",
        "\n",
        "Our denoising stats are contained in an artifact. To convert it to a visualization we can use `qiime metadata tabulate`."
      ]
    },
    {
      "cell_type": "code",
      "metadata": {
        "id": "n_Tr3Ujcj61w",
        "colab": {
          "base_uri": "https://localhost:8080/"
        },
        "outputId": "d58ed6ae-6c69-4661-b637-d5cb0d85ec80"
      },
      "source": [
        "!qiime metadata tabulate \\\n",
        "    --m-input-file dada2/denoising_stats.qza \\\n",
        "    --o-visualization dada2/denoising-stats.qzv"
      ],
      "execution_count": null,
      "outputs": [
        {
          "output_type": "stream",
          "name": "stdout",
          "text": [
            "\u001b[32mSaved Visualization to: dada2/denoising-stats.qzv\u001b[0m\n"
          ]
        }
      ]
    },
    {
      "cell_type": "markdown",
      "metadata": {
        "id": "o75g7DSO2tu5"
      },
      "source": [
        "What proprotion of reads was retained throughout the entire pipeline? Look at the final number of used reads (non-chimeric). What do you observe when comparing those values between samples and how might that affect diversity metrics?"
      ]
    },
    {
      "cell_type": "markdown",
      "metadata": {
        "id": "c0ZV3_sGQ20u"
      },
      "source": [
        "# Phylogeny and diversity"
      ]
    },
    {
      "cell_type": "markdown",
      "metadata": {
        "id": "aEit8p7V9Ht9"
      },
      "source": [
        "## Building a tree\n",
        "\n",
        "We can build a phylogenetic tree for our sequences using the following command:"
      ]
    },
    {
      "cell_type": "code",
      "metadata": {
        "id": "2PVNlD0g9MsX",
        "colab": {
          "base_uri": "https://localhost:8080/"
        },
        "outputId": "80772a7a-e290-45b4-b3a9-debe94de0097"
      },
      "source": [
        "!qiime phylogeny align-to-tree-mafft-fasttree \\\n",
        "    --i-sequences dada2/representative_sequences.qza \\\n",
        "    --output-dir tree"
      ],
      "execution_count": null,
      "outputs": [
        {
          "output_type": "stream",
          "name": "stdout",
          "text": [
            "\u001b[32mSaved FeatureData[AlignedSequence] to: tree/alignment.qza\u001b[0m\n",
            "\u001b[32mSaved FeatureData[AlignedSequence] to: tree/masked_alignment.qza\u001b[0m\n",
            "\u001b[32mSaved Phylogeny[Unrooted] to: tree/tree.qza\u001b[0m\n",
            "\u001b[32mSaved Phylogeny[Rooted] to: tree/rooted_tree.qza\u001b[0m\n"
          ]
        }
      ]
    },
    {
      "cell_type": "markdown",
      "metadata": {
        "id": "4lB8NI0IiJgk"
      },
      "source": [
        "We can create a visualization for the tree using the [empress](https://github.com/biocore/empress) Qiime 2 plugin."
      ]
    },
    {
      "cell_type": "code",
      "metadata": {
        "id": "cSS_y3Kligrc",
        "colab": {
          "base_uri": "https://localhost:8080/"
        },
        "outputId": "105c0af6-fb21-43f0-ffe6-f74427e6d82e"
      },
      "source": [
        "!qiime empress tree-plot \\\n",
        "    --i-tree tree/rooted_tree.qza \\\n",
        "    --o-visualization tree/empress.qzv"
      ],
      "execution_count": null,
      "outputs": [
        {
          "output_type": "stream",
          "name": "stdout",
          "text": [
            "\u001b[32mSaved Visualization to: tree/empress.qzv\u001b[0m\n"
          ]
        }
      ]
    },
    {
      "cell_type": "markdown",
      "metadata": {
        "id": "UmxTRou99a_n"
      },
      "source": [
        "This looks nice but is not particularly informative as is. The main utility of our tree will be in complementing our diversity analyses. It will tell us which ASVs are more or less related to one another, which will allow us to calculate different kinds of ecological diversity metrics.\n",
        "\n",
        "## Alpha and Beta Diversity\n",
        "\n",
        "![sample sources](https://github.com/Gibbons-Lab/isb_course_2021/raw/main/docs/16S/assets/sample_sources.png)\n",
        "\n",
        "One of our main goals will be to compare the microbial composition from different environments. Qiime 2 has \"run-all\" command for diversity analyses. This will\n",
        "\n",
        "1. Subsampe our samples to the same total number of reads (Why?) \n",
        "2. Calculate alpha and beta diversity measures\n",
        "3. Visualize PCoA projections"
      ]
    },
    {
      "cell_type": "code",
      "metadata": {
        "id": "0js6xHuw-NqF",
        "colab": {
          "base_uri": "https://localhost:8080/"
        },
        "outputId": "b92ed870-e821-4b0e-972f-4502ceaecd37"
      },
      "source": [
        "!qiime diversity core-metrics-phylogenetic \\\n",
        "    --i-table dada2/table.qza \\\n",
        "    --i-phylogeny tree/rooted_tree.qza \\\n",
        "    --p-sampling-depth 10000 \\\n",
        "    --m-metadata-file data/metadata.tsv \\\n",
        "    --output-dir diversity"
      ],
      "execution_count": null,
      "outputs": [
        {
          "output_type": "stream",
          "name": "stdout",
          "text": [
            "\u001b[32mSaved FeatureTable[Frequency] to: diversity/rarefied_table.qza\u001b[0m\n",
            "\u001b[32mSaved SampleData[AlphaDiversity] to: diversity/faith_pd_vector.qza\u001b[0m\n",
            "\u001b[32mSaved SampleData[AlphaDiversity] to: diversity/observed_features_vector.qza\u001b[0m\n",
            "\u001b[32mSaved SampleData[AlphaDiversity] to: diversity/shannon_vector.qza\u001b[0m\n",
            "\u001b[32mSaved SampleData[AlphaDiversity] to: diversity/evenness_vector.qza\u001b[0m\n",
            "\u001b[32mSaved DistanceMatrix to: diversity/unweighted_unifrac_distance_matrix.qza\u001b[0m\n",
            "\u001b[32mSaved DistanceMatrix to: diversity/weighted_unifrac_distance_matrix.qza\u001b[0m\n",
            "\u001b[32mSaved DistanceMatrix to: diversity/jaccard_distance_matrix.qza\u001b[0m\n",
            "\u001b[32mSaved DistanceMatrix to: diversity/bray_curtis_distance_matrix.qza\u001b[0m\n",
            "\u001b[32mSaved PCoAResults to: diversity/unweighted_unifrac_pcoa_results.qza\u001b[0m\n",
            "\u001b[32mSaved PCoAResults to: diversity/weighted_unifrac_pcoa_results.qza\u001b[0m\n",
            "\u001b[32mSaved PCoAResults to: diversity/jaccard_pcoa_results.qza\u001b[0m\n",
            "\u001b[32mSaved PCoAResults to: diversity/bray_curtis_pcoa_results.qza\u001b[0m\n",
            "\u001b[32mSaved Visualization to: diversity/unweighted_unifrac_emperor.qzv\u001b[0m\n",
            "\u001b[32mSaved Visualization to: diversity/weighted_unifrac_emperor.qzv\u001b[0m\n",
            "\u001b[32mSaved Visualization to: diversity/jaccard_emperor.qzv\u001b[0m\n",
            "\u001b[32mSaved Visualization to: diversity/bray_curtis_emperor.qzv\u001b[0m\n"
          ]
        }
      ]
    },
    {
      "cell_type": "markdown",
      "metadata": {
        "id": "p-uZBNVX-y2L"
      },
      "source": [
        "## Statistical analyses\n",
        "\n",
        "Let's first have a look at alpha diversity. Can we see a difference in the per-sample diversity across environments? And between animal-asociated and free-living communities?"
      ]
    },
    {
      "cell_type": "code",
      "metadata": {
        "id": "GnkeX6iY--g-",
        "colab": {
          "base_uri": "https://localhost:8080/"
        },
        "outputId": "d4931bc5-402e-408b-e519-1d19282c5aa7"
      },
      "source": [
        "!qiime diversity alpha-group-significance \\\n",
        "    --i-alpha-diversity diversity/shannon_vector.qza \\\n",
        "    --m-metadata-file data/metadata.tsv \\\n",
        "    --o-visualization diversity/alpha_groups.qzv"
      ],
      "execution_count": null,
      "outputs": [
        {
          "output_type": "stream",
          "name": "stdout",
          "text": [
            "\u001b[32mSaved Visualization to: diversity/alpha_groups.qzv\u001b[0m\n"
          ]
        }
      ]
    },
    {
      "cell_type": "markdown",
      "metadata": {
        "id": "ngH5fUeDQMO0"
      },
      "source": [
        "Now, let's use beta diversity to see how different the samples are from one another. First download `diversity/weighted_unifrac_emperor.qzv` and take a look. Do samples separate based on the environment?\n",
        "\n",
        "We can check whether that separation is 'significant' by using a PERMANOVA test."
      ]
    },
    {
      "cell_type": "code",
      "metadata": {
        "id": "KzNW92riQguX",
        "colab": {
          "base_uri": "https://localhost:8080/"
        },
        "outputId": "07a57c39-c6e4-41d8-9d6f-287efd200c86"
      },
      "source": [
        "!qiime diversity adonis \\\n",
        "    --i-distance-matrix diversity/weighted_unifrac_distance_matrix.qza \\\n",
        "    --m-metadata-file data/metadata.tsv \\\n",
        "    --p-formula \"source\" \\\n",
        "    --p-n-jobs 2 \\\n",
        "    --o-visualization diversity/permanova.qzv"
      ],
      "execution_count": null,
      "outputs": [
        {
          "output_type": "stream",
          "name": "stdout",
          "text": [
            "\u001b[32mSaved Visualization to: diversity/permanova.qzv\u001b[0m\n"
          ]
        }
      ]
    },
    {
      "cell_type": "markdown",
      "metadata": {
        "id": "FB7WYPZ1DEoR"
      },
      "source": [
        "# Taxonomy\n",
        "\n",
        "We will use a Bayes classifier trained on the GreenGenes database which can be downloaded from https://docs.qiime2.org/2021.4/data-resources/."
      ]
    },
    {
      "cell_type": "code",
      "metadata": {
        "id": "drgYtfLbDosv",
        "colab": {
          "base_uri": "https://localhost:8080/"
        },
        "outputId": "1c9bc367-713d-4829-c16a-4daacb714dc0"
      },
      "source": [
        "!wget https://data.qiime2.org/2021.8/common/gg-13-8-99-515-806-nb-classifier.qza"
      ],
      "execution_count": null,
      "outputs": [
        {
          "output_type": "stream",
          "name": "stdout",
          "text": [
            "--2021-10-20 19:29:21--  https://data.qiime2.org/2021.8/common/gg-13-8-99-515-806-nb-classifier.qza\n",
            "Resolving data.qiime2.org (data.qiime2.org)... 54.200.1.12\n",
            "Connecting to data.qiime2.org (data.qiime2.org)|54.200.1.12|:443... connected.\n",
            "HTTP request sent, awaiting response... 302 FOUND\n",
            "Location: https://s3-us-west-2.amazonaws.com/qiime2-data/2021.8/common/gg-13-8-99-515-806-nb-classifier.qza [following]\n",
            "--2021-10-20 19:29:21--  https://s3-us-west-2.amazonaws.com/qiime2-data/2021.8/common/gg-13-8-99-515-806-nb-classifier.qza\n",
            "Resolving s3-us-west-2.amazonaws.com (s3-us-west-2.amazonaws.com)... 3.5.86.140\n",
            "Connecting to s3-us-west-2.amazonaws.com (s3-us-west-2.amazonaws.com)|3.5.86.140|:443... connected.\n",
            "HTTP request sent, awaiting response... 200 OK\n",
            "Length: 28289645 (27M) [binary/octet-stream]\n",
            "Saving to: ‘gg-13-8-99-515-806-nb-classifier.qza’\n",
            "\n",
            "gg-13-8-99-515-806- 100%[===================>]  26.98M  22.9MB/s    in 1.2s    \n",
            "\n",
            "2021-10-20 19:29:22 (22.9 MB/s) - ‘gg-13-8-99-515-806-nb-classifier.qza’ saved [28289645/28289645]\n",
            "\n"
          ]
        }
      ]
    },
    {
      "cell_type": "code",
      "metadata": {
        "id": "EEBbgvnhDGTs",
        "colab": {
          "base_uri": "https://localhost:8080/"
        },
        "outputId": "5bf92891-7398-4385-99cc-0070f777c17f"
      },
      "source": [
        "!qiime feature-classifier classify-sklearn \\\n",
        "    --i-reads dada2/representative_sequences.qza \\\n",
        "    --i-classifier gg-13-8-99-515-806-nb-classifier.qza \\\n",
        "    --p-n-jobs 2 \\\n",
        "    --o-classification taxa.qza"
      ],
      "execution_count": null,
      "outputs": [
        {
          "output_type": "stream",
          "name": "stdout",
          "text": [
            "\u001b[32mSaved FeatureData[Taxonomy] to: taxa.qza\u001b[0m\n"
          ]
        }
      ]
    },
    {
      "cell_type": "markdown",
      "metadata": {
        "id": "xISxzBo6Mpka"
      },
      "source": [
        "Now let's have a look at the relative abundances of the different bacterial taxa we have in each sample:"
      ]
    },
    {
      "cell_type": "code",
      "metadata": {
        "id": "4VTL2yEBMqfO",
        "colab": {
          "base_uri": "https://localhost:8080/"
        },
        "outputId": "e3b9e621-aca4-42dd-fb19-2f1a1c61c986"
      },
      "source": [
        "!qiime taxa barplot \\\n",
        "    --i-table dada2/table.qza \\\n",
        "    --i-taxonomy taxa.qza \\\n",
        "    --m-metadata-file data/metadata.tsv \\\n",
        "    --o-visualization taxa_barplot.qzv"
      ],
      "execution_count": null,
      "outputs": [
        {
          "output_type": "stream",
          "name": "stdout",
          "text": [
            "\u001b[32mSaved Visualization to: taxa_barplot.qzv\u001b[0m\n"
          ]
        }
      ]
    },
    {
      "cell_type": "markdown",
      "metadata": {
        "id": "4_FVM8VfX_yQ"
      },
      "source": [
        "We can also collapse data on a particular taxonomic rank using the QIIME 2 [taxa plugin](https://docs.qiime2.org/2021.4/plugins/available/taxa/). Why might we want to look at different taxonomic ranks, rather than just looking at ASVs?"
      ]
    },
    {
      "cell_type": "code",
      "metadata": {
        "id": "gl72G8KaYmBm",
        "colab": {
          "base_uri": "https://localhost:8080/"
        },
        "outputId": "2af66f1e-edf7-41c7-eb2d-a0d316e601a9"
      },
      "source": [
        "!qiime taxa collapse \\\n",
        "    --i-table dada2/table.qza \\\n",
        "    --i-taxonomy taxa.qza \\\n",
        "    --p-level 6 \\\n",
        "    --o-collapsed-table genus.qza"
      ],
      "execution_count": null,
      "outputs": [
        {
          "output_type": "stream",
          "name": "stdout",
          "text": [
            "\u001b[32mSaved FeatureTable[Frequency] to: genus.qza\u001b[0m\n"
          ]
        }
      ]
    },
    {
      "cell_type": "markdown",
      "metadata": {
        "id": "dlVdzgfbZcjt"
      },
      "source": [
        "We can export the table and convert it to a .csv file so that we can analyze these data using tools outside of the QIIME 2 environment."
      ]
    },
    {
      "cell_type": "code",
      "metadata": {
        "id": "ZsxKf3yAZiHk",
        "colab": {
          "base_uri": "https://localhost:8080/"
        },
        "outputId": "d075f356-74b6-4186-bad4-1421c6610f3b"
      },
      "source": [
        "!qiime tools export \\\n",
        "    --input-path genus.qza \\\n",
        "    --output-path exported\n",
        "!biom convert -i exported/feature-table.biom -o genus.tsv --to-tsv"
      ],
      "execution_count": null,
      "outputs": [
        {
          "output_type": "stream",
          "name": "stdout",
          "text": [
            "\u001b[32mExported genus.qza as BIOMV210DirFmt to directory exported\u001b[0m\n"
          ]
        }
      ]
    },
    {
      "cell_type": "markdown",
      "metadata": {
        "id": "TezGLSEGZrcn"
      },
      "source": [
        "Now the data are in a common format and we can use them, for instance, to draw a heatmap using Pandas and Seaborn. No need to understand every bit of code here. This just serves to illustrate that you can get data out of QIIME 2 for custom visualizations."
      ]
    },
    {
      "cell_type": "code",
      "metadata": {
        "id": "p5zUjU8JZqL4",
        "colab": {
          "base_uri": "https://localhost:8080/",
          "height": 460
        },
        "outputId": "91082770-7186-4677-9333-c306f7f71d90"
      },
      "source": [
        "import numpy as np\n",
        "import pandas as pd\n",
        "import seaborn as sns\n",
        "\n",
        "abundances = pd.read_table(\"genus.tsv\", skiprows=1, index_col=0)\n",
        "abundances.index = abundances.index.str.split(\";\").str[5]       # Use only the genus name\n",
        "abundances = abundances[~abundances.index.isin([\"g__\", \"__\"])]  # remove unclassified genera\n",
        "abundances = abundances.iloc[0:100]                             # use only the first 100 genera\n",
        "\n",
        "# Let's do a centered log-ratio transform: log x_i - log mean(x)\n",
        "transformed = abundances.apply(\n",
        "    lambda xs: np.log(xs + 0.5) - np.log(xs.mean() + 0.5),\n",
        "    axis=1)\n",
        "\n",
        "sns.clustermap(transformed.T, cmap=\"magma\", xticklabels=True, figsize=(19, 6))"
      ],
      "execution_count": null,
      "outputs": [
        {
          "output_type": "execute_result",
          "data": {
            "text/plain": [
              "<seaborn.matrix.ClusterGrid at 0x7fbbcb3cbe50>"
            ]
          },
          "metadata": {},
          "execution_count": 19
        },
        {
          "output_type": "display_data",
          "data": {
            "image/png": "[encoded data removed]",
            "text/plain": [
              "<Figure size 1368x432 with 4 Axes>"
            ]
          },
          "metadata": {
            "needs_background": "light"
          }
        }
      ]
    },
    {
      "cell_type": "markdown",
      "metadata": {
        "id": "QbRoCh1BR0GZ"
      },
      "source": [
        "# Exercises\n",
        "\n",
        "Okay, that's enough time in the back seat. \n",
        "\n",
        "It's time to take the wheel 🚗 \n",
        "\n",
        "Now you can dive into the data 🏊"
      ]
    },
    {
      "cell_type": "markdown",
      "metadata": {
        "id": "Moq2YOvDSDap"
      },
      "source": [
        "## Exercise 1 - Sample Classification\n",
        "\n",
        "One pretty basic question we can ask is whether the microbial community composition is predictive of environmental type. \n",
        "Could you predict if a sample came from a free-living or host-associated environment from 16S data alone? \n",
        "\n",
        "Metadata about the samples is again contained in `metadata.tsv` which looks like this:"
      ]
    },
    {
      "cell_type": "code",
      "metadata": {
        "id": "T16jC6U1ONow",
        "colab": {
          "base_uri": "https://localhost:8080/",
          "height": 520
        },
        "outputId": "4017e6c9-77da-4312-87e9-1b7cff924fba"
      },
      "source": [
        "import pandas as pd\n",
        "\n",
        "pd.read_csv(\"data/metadata.tsv\", sep=\"\\t\")"
      ],
      "execution_count": null,
      "outputs": [
        {
          "output_type": "execute_result",
          "data": {
            "text/html": [
              "<div>\n",
              "<style scoped>\n",
              "    .dataframe tbody tr th:only-of-type {\n",
              "        vertical-align: middle;\n",
              "    }\n",
              "\n",
              "    .dataframe tbody tr th {\n",
              "        vertical-align: top;\n",
              "    }\n",
              "\n",
              "    .dataframe thead th {\n",
              "        text-align: right;\n",
              "    }\n",
              "</style>\n",
              "<table border=\"1\" class=\"dataframe\">\n",
              "  <thead>\n",
              "    <tr style=\"text-align: right;\">\n",
              "      <th></th>\n",
              "      <th>id</th>\n",
              "      <th>alias</th>\n",
              "      <th>read_length</th>\n",
              "      <th>barcode</th>\n",
              "      <th>num_bases</th>\n",
              "      <th>bioproject</th>\n",
              "      <th>source</th>\n",
              "      <th>animal</th>\n",
              "      <th>saline</th>\n",
              "    </tr>\n",
              "  </thead>\n",
              "  <tbody>\n",
              "    <tr>\n",
              "      <th>0</th>\n",
              "      <td>ERR1548680</td>\n",
              "      <td>qiita_sid_1064:1064.G.CV263</td>\n",
              "      <td>151</td>\n",
              "      <td>ACAGGAGGGTGT</td>\n",
              "      <td>5456838</td>\n",
              "      <td>PRJEB14927</td>\n",
              "      <td>honey bee microbiome</td>\n",
              "      <td>yes</td>\n",
              "      <td>no</td>\n",
              "    </tr>\n",
              "    <tr>\n",
              "      <th>1</th>\n",
              "      <td>ERR1548733</td>\n",
              "      <td>qiita_sid_1064:1064.G.CV328</td>\n",
              "      <td>151</td>\n",
              "      <td>AACCATGCCAAC</td>\n",
              "      <td>5436000</td>\n",
              "      <td>PRJEB14927</td>\n",
              "      <td>honey bee microbiome</td>\n",
              "      <td>yes</td>\n",
              "      <td>no</td>\n",
              "    </tr>\n",
              "    <tr>\n",
              "      <th>2</th>\n",
              "      <td>ERR1548821</td>\n",
              "      <td>qiita_sid_1064:1064.H.CV214</td>\n",
              "      <td>151</td>\n",
              "      <td>GAGGTTCTTGAC</td>\n",
              "      <td>5223090</td>\n",
              "      <td>PRJEB14927</td>\n",
              "      <td>honey bee microbiome</td>\n",
              "      <td>yes</td>\n",
              "      <td>no</td>\n",
              "    </tr>\n",
              "    <tr>\n",
              "      <th>3</th>\n",
              "      <td>ERR1529655</td>\n",
              "      <td>qiita_sid_1481:1481.PO1.2.T0</td>\n",
              "      <td>151</td>\n",
              "      <td>TCTAACGAGTGC</td>\n",
              "      <td>3804898</td>\n",
              "      <td>PRJEB14782</td>\n",
              "      <td>human microbiome</td>\n",
              "      <td>yes</td>\n",
              "      <td>no</td>\n",
              "    </tr>\n",
              "    <tr>\n",
              "      <th>4</th>\n",
              "      <td>ERR1529656</td>\n",
              "      <td>qiita_sid_1481:1481.PO1.2.T8</td>\n",
              "      <td>151</td>\n",
              "      <td>CATCTGGGCAAT</td>\n",
              "      <td>3286364</td>\n",
              "      <td>PRJEB14782</td>\n",
              "      <td>human microbiome</td>\n",
              "      <td>yes</td>\n",
              "      <td>no</td>\n",
              "    </tr>\n",
              "    <tr>\n",
              "      <th>5</th>\n",
              "      <td>ERR1529685</td>\n",
              "      <td>qiita_sid_1481:1481.PO5.10.T4</td>\n",
              "      <td>151</td>\n",
              "      <td>GCTTCCAGACAA</td>\n",
              "      <td>3030570</td>\n",
              "      <td>PRJEB14782</td>\n",
              "      <td>human microbiome</td>\n",
              "      <td>yes</td>\n",
              "      <td>no</td>\n",
              "    </tr>\n",
              "    <tr>\n",
              "      <th>6</th>\n",
              "      <td>ERR1530728</td>\n",
              "      <td>qiita_sid_1222:1222.B1.5.11.06</td>\n",
              "      <td>141</td>\n",
              "      <td>GACGCACTAACT</td>\n",
              "      <td>27746200</td>\n",
              "      <td>PRJEB14793</td>\n",
              "      <td>ocean</td>\n",
              "      <td>no</td>\n",
              "      <td>yes</td>\n",
              "    </tr>\n",
              "    <tr>\n",
              "      <th>7</th>\n",
              "      <td>ERR1530761</td>\n",
              "      <td>qiita_sid_1222:1222.B3.5.19.06</td>\n",
              "      <td>142</td>\n",
              "      <td>GAGCGTATCCAT</td>\n",
              "      <td>20439520</td>\n",
              "      <td>PRJEB14793</td>\n",
              "      <td>ocean</td>\n",
              "      <td>no</td>\n",
              "      <td>yes</td>\n",
              "    </tr>\n",
              "    <tr>\n",
              "      <th>8</th>\n",
              "      <td>ERR1530769</td>\n",
              "      <td>qiita_sid_1222:1222.B4.5.9.06</td>\n",
              "      <td>142</td>\n",
              "      <td>TCACGGTGACAT</td>\n",
              "      <td>21630381</td>\n",
              "      <td>PRJEB14793</td>\n",
              "      <td>ocean</td>\n",
              "      <td>no</td>\n",
              "      <td>yes</td>\n",
              "    </tr>\n",
              "    <tr>\n",
              "      <th>9</th>\n",
              "      <td>ERR1844439</td>\n",
              "      <td>qiita_sid_1714:1714.McG.PB02</td>\n",
              "      <td>150</td>\n",
              "      <td>TATGGAGCTAGT</td>\n",
              "      <td>6137796</td>\n",
              "      <td>PRJEB19497</td>\n",
              "      <td>soil</td>\n",
              "      <td>no</td>\n",
              "      <td>no</td>\n",
              "    </tr>\n",
              "    <tr>\n",
              "      <th>10</th>\n",
              "      <td>ERR1844440</td>\n",
              "      <td>qiita_sid_1714:1714.McG.PB1020</td>\n",
              "      <td>150</td>\n",
              "      <td>AACCATGCCAAC</td>\n",
              "      <td>6467126</td>\n",
              "      <td>PRJEB19497</td>\n",
              "      <td>soil</td>\n",
              "      <td>no</td>\n",
              "      <td>no</td>\n",
              "    </tr>\n",
              "    <tr>\n",
              "      <th>11</th>\n",
              "      <td>ERR1844443</td>\n",
              "      <td>qiita_sid_1714:1714.McG.PC210</td>\n",
              "      <td>150</td>\n",
              "      <td>ACTACCTCTTCA</td>\n",
              "      <td>5544241</td>\n",
              "      <td>PRJEB19497</td>\n",
              "      <td>soil</td>\n",
              "      <td>no</td>\n",
              "      <td>no</td>\n",
              "    </tr>\n",
              "    <tr>\n",
              "      <th>12</th>\n",
              "      <td>ERR1638444</td>\n",
              "      <td>qiita_sid_861:861.X10.jul09</td>\n",
              "      <td>149</td>\n",
              "      <td>TTCTGGTCTTGT</td>\n",
              "      <td>9809757</td>\n",
              "      <td>PRJEB15445</td>\n",
              "      <td>cenote</td>\n",
              "      <td>no</td>\n",
              "      <td>no</td>\n",
              "    </tr>\n",
              "    <tr>\n",
              "      <th>13</th>\n",
              "      <td>ERR1638445</td>\n",
              "      <td>qiita_sid_861:861.X10.mar09</td>\n",
              "      <td>149</td>\n",
              "      <td>GTTACAGTTGGC</td>\n",
              "      <td>17596411</td>\n",
              "      <td>PRJEB15445</td>\n",
              "      <td>cenote</td>\n",
              "      <td>no</td>\n",
              "      <td>no</td>\n",
              "    </tr>\n",
              "    <tr>\n",
              "      <th>14</th>\n",
              "      <td>ERR1638446</td>\n",
              "      <td>qiita_sid_861:861.X52.jul09</td>\n",
              "      <td>149</td>\n",
              "      <td>GTCCACTTGGAC</td>\n",
              "      <td>11577867</td>\n",
              "      <td>PRJEB15445</td>\n",
              "      <td>cenote</td>\n",
              "      <td>no</td>\n",
              "      <td>no</td>\n",
              "    </tr>\n",
              "  </tbody>\n",
              "</table>\n",
              "</div>"
            ],
            "text/plain": [
              "            id                           alias  ...  animal saline\n",
              "0   ERR1548680     qiita_sid_1064:1064.G.CV263  ...     yes     no\n",
              "1   ERR1548733     qiita_sid_1064:1064.G.CV328  ...     yes     no\n",
              "2   ERR1548821     qiita_sid_1064:1064.H.CV214  ...     yes     no\n",
              "3   ERR1529655    qiita_sid_1481:1481.PO1.2.T0  ...     yes     no\n",
              "4   ERR1529656    qiita_sid_1481:1481.PO1.2.T8  ...     yes     no\n",
              "5   ERR1529685   qiita_sid_1481:1481.PO5.10.T4  ...     yes     no\n",
              "6   ERR1530728  qiita_sid_1222:1222.B1.5.11.06  ...      no    yes\n",
              "7   ERR1530761  qiita_sid_1222:1222.B3.5.19.06  ...      no    yes\n",
              "8   ERR1530769   qiita_sid_1222:1222.B4.5.9.06  ...      no    yes\n",
              "9   ERR1844439    qiita_sid_1714:1714.McG.PB02  ...      no     no\n",
              "10  ERR1844440  qiita_sid_1714:1714.McG.PB1020  ...      no     no\n",
              "11  ERR1844443   qiita_sid_1714:1714.McG.PC210  ...      no     no\n",
              "12  ERR1638444     qiita_sid_861:861.X10.jul09  ...      no     no\n",
              "13  ERR1638445     qiita_sid_861:861.X10.mar09  ...      no     no\n",
              "14  ERR1638446     qiita_sid_861:861.X52.jul09  ...      no     no\n",
              "\n",
              "[15 rows x 9 columns]"
            ]
          },
          "metadata": {},
          "execution_count": 20
        }
      ]
    },
    {
      "cell_type": "markdown",
      "metadata": {
        "id": "j1Q2ZpBEON42"
      },
      "source": [
        "Start with the `classify-samples` action and follow it up by finding and looking at the `heatmap` visualization afterwards that shows important taxa.\n",
        "\n",
        "We will try to build a machine learning model that can predict whether a microbiome is animal-associated or free-living.\n",
        "\n",
        "You can also find accuracy results that will tell you how well the phenotype can be predicted from the microbial composition.\n",
        "\n",
        "I filled in the command for you but it is missing some inputs. Can you complete it? \n",
        "\n",
        "Try to use the genus table and not the ASV table here (why?).\n",
        "\n",
        "**QUESTIONS:**\n",
        "\n",
        "1) What does it mean for data to be in the 'training' or 'test' set? \n",
        "\n",
        "2) How well did this classifier perform? \n",
        "\n",
        "3) What ASVs contributed most to model performance? Why do you think these ASVs were so important?\n",
        "\n",
        "4) Do you think this is a model is broadly useful? Would it perform well on external data that it has not seen yet? Why or why not?\n"
      ]
    },
    {
      "cell_type": "code",
      "metadata": {
        "id": "Nhf1g2RpSCak",
        "colab": {
          "base_uri": "https://localhost:8080/"
        },
        "outputId": "65bb79ee-7581-45ea-dd4a-c1a7b5763965"
      },
      "source": [
        "!rm -rf classifier\n",
        "!qiime sample-classifier classify-samples \\\n",
        "    --i-table genus.qza \\\n",
        "    --m-metadata-file data/metadata.tsv \\\n",
        "    --m-metadata-column animal \\\n",
        "    --p-n-jobs 2 \\\n",
        "    --p-test-size 0.33 \\\n",
        "    --p-cv 1 \\\n",
        "    --output-dir classifier "
      ],
      "execution_count": null,
      "outputs": [
        {
          "output_type": "stream",
          "name": "stdout",
          "text": [
            "\u001b[32mSaved SampleEstimator[Classifier] to: classifier/sample_estimator.qza\u001b[0m\n",
            "\u001b[32mSaved FeatureData[Importance] to: classifier/feature_importance.qza\u001b[0m\n",
            "\u001b[32mSaved SampleData[ClassifierPredictions] to: classifier/predictions.qza\u001b[0m\n",
            "\u001b[32mSaved Visualization to: classifier/model_summary.qzv\u001b[0m\n",
            "\u001b[32mSaved Visualization to: classifier/accuracy_results.qzv\u001b[0m\n",
            "\u001b[32mSaved SampleData[Probabilities] to: classifier/probabilities.qza\u001b[0m\n",
            "\u001b[32mSaved Visualization to: classifier/heatmap.qzv\u001b[0m\n",
            "\u001b[32mSaved SampleData[TrueTargets] to: classifier/training_targets.qza\u001b[0m\n",
            "\u001b[32mSaved SampleData[TrueTargets] to: classifier/test_targets.qza\u001b[0m\n"
          ]
        }
      ]
    },
    {
      "cell_type": "markdown",
      "metadata": {
        "id": "STPJ5yvNM8L1"
      },
      "source": [
        "Okay, we filled in the command here. ASVs are obtained from the data set itself and depend heavily on the specific amplicon (and thus on the primers). To make the model a bit more generalizable, we can collapse counts to the genus level, because you could easily count genera even in data where a different 16S amplicon was used. Ok, let's get to the questions.\n",
        "\n",
        "**1)** One thing we would like to estimate is how well the model will perform on new data without training it anew. Here \"training\" means fitting some internal parameters of the model to the data. For instance, fitting coefficients in a linear regression model. What we would like to know now is if the  model still works well on data that was not used for training the model. If it does not, we often call that [\"overfitting\"](https://en.wikipedia.org/wiki/Overfitting) which means model works well on the training data but horribly on new data. To check for this, we can hold out a few samples as a \"test set\" -- those will not be used for training but we still know the ground truth for them (i.e. the environment they came from). If we train the model now we can then validate its robustness using the test set to see if it performs well on that data that it hasn't seen before.\n",
        "\n",
        "**2)** For the performance we can look at the accuracy visualization `classifier/accuracy_results.qzv` by opening it with the [QIIME 2 viewer](https://view.qiime2.org/). This shows the results for the test set. We held out 1/3 of the data for testing which means 5/15 samples. It will show you the real label (animal-associated = yes, free-living = no) and what the model predicted. It should show a near-perfect performance on the test data, meaning that the model as good accuracy in the test set. Yay!\n",
        "\n",
        "**3)** We might ask which particular genera are actually important to the prediction. A list of up to 50 genera that help the most with classification can be visualized by opening the `classifier/heatmap.qzv` visualization with the QIIME 2 viewer. Each row denotes a group (animal-associated or not) and each column denotes a genus. Each cell is colored by the average abundance of this genus in each group. As you can see for the most part those are mutually exlusive genera. A whole bunch of genera that appear only in free-living microbiota and quite a few that only live in animal-associated microbiota.\n",
        "\n",
        "**4)** To some degree, we already looked at this question by using our test set. However, even the test set only used data from the 5 environments studied in this course. What would happen if some new kind of environment contained none of the genera that we saw on the heatmap? Our classifier would probably not perform well there. Similarly what would happen if we had assigned taxonomy with SILVA, which would have assigned different genera names? It would probably not perform well there either. So even with a test set the classifier probably *only works on data with similar charateristics* as the training data. "
      ]
    },
    {
      "cell_type": "markdown",
      "metadata": {
        "id": "hy5HN4ZoS2-9"
      },
      "source": [
        "## Exercise 2 - Plant a Tree\n",
        "\n",
        "One visualization that we did not spend a lot of time on was the phylogentic tree of our ASVs. Let's change that! \n",
        "\n",
        "Let's annotate the tree with our taxonomic classifications and abundances. We will use the empress plugin again, but this time with the `community-plot` option. I filled in a template of the command for you. Can you figure out what has to go in the empty spaces?\n",
        "\n",
        "**QUESTIONS:**\n",
        "\n",
        "1) Are some of the branch lengths on the tree longer than you would expect? Do you notice anything interesting or suspicious about the taxonomic identities of these branches?\n",
        "\n",
        "2) Can you find examples of phyla that are polyphyletic (i.e. where clusters of ASVs from the same phylum are found in different locations on the tree, showing different commmon ancestors)? What about polyphyletic taxa at lower taxonomic levels, like at the family or genus levels? Why do you think these patterns exist?"
      ]
    },
    {
      "cell_type": "code",
      "metadata": {
        "id": "tq9TWRMjkER5",
        "colab": {
          "base_uri": "https://localhost:8080/"
        },
        "outputId": "4573b5ef-8e54-4ce4-b811-a78d64b80157"
      },
      "source": [
        "!qiime empress community-plot \\\n",
        "    --i-tree tree/rooted_tree.qza \\\n",
        "    --i-feature-table dada2/table.qza \\\n",
        "    --m-sample-metadata-file data/metadata.tsv \\\n",
        "    --m-feature-metadata-file taxa.qza \\\n",
        "    --o-visualization community-tree-viz.qzv"
      ],
      "execution_count": null,
      "outputs": [
        {
          "output_type": "stream",
          "name": "stdout",
          "text": [
            "\u001b[32mSaved Visualization to: community-tree-viz.qzv\u001b[0m\n"
          ]
        }
      ]
    },
    {
      "cell_type": "markdown",
      "metadata": {
        "id": "S1rWPAn6Gwwq"
      },
      "source": [
        "This is what the command looks like with everything filled in. This command will create the same tree as before, but you can now annotate it with a lot more information, and hovering over a node will now also show its taxonomic classification. Another thing that can be helpful is to collapse nodes on a particular taxonomic rank. For instance, you could collapse on the genus level to reduce the large number of external nodes (and the unclassified ones). \n",
        "\n",
        "![Example visualization](https://github.com/Gibbons-Lab/isb_course_2021/raw/main/docs/16S/assets/community_tree.png)\n",
        "\n",
        "Let's get to the questions:\n",
        "\n",
        "**1)** There are definitely some very long branches, what could be happening? Hovering over those very separate nodes you see that some of them have no classification, sometimes not even on the kingdom level. Interestingly, bacteria are not the only organisms that have a 16S gene. But the GreenGenes database mostly covers bacteria. The ones not classified on the kingdom level are thus likely sequences coming from 16S genes from another Domain, such as archaea. However, many of these very long branches are still classified as bacteria, and in many cases get classified as mitochondria or choloroplasts. First, of all it's really hard to distinguish mitochondria and chloroplast based on the V4 region alone. These organelles have diverged a lot from other bacteria, however they are still related to bacteria, which is somewhat consistent with [endosymbiotic theory](https://en.wikipedia.org/wiki/Symbiogenesis). Mitochondria, chloroplasts, and plastids often still contain their own genomes, seperate from their eukaryotic host cells (i.e. plants, animals, fungi, protists), and their internal 16S genes are still close enough to bacteria that the V4 primers will amplify them.\n",
        "\n",
        "**2)** In most cases you would expect that taxonomy should match the tree that you obtain by aligning the V4 sequences. After all taxonomies like NCBI, GreenGenes, or SILVA are often built by aligning the the core proteins, full 16S gene, or other parts of the genome. These molecular taxonomies are often designed to be monophyletic. However, initial taxonomic classification of microbes in the 19th and 20th centuries was based upon phenotypic assays. And as we see in the metabolic modeling course, sometimes unrelated taxa can show similar metabolic functionality. This is why you will find, for instance, genera like `Prevotella_1`, `Prevotella_2`, and `Prevotella_3` in SILVA. The sequences from organisms classified originally as Prevotella fell into polyphyletic groups (i.e. they didn't all share the same common ancestor) and were thus split up further into monopyletic clades. When building trees from amplicon sequencing data, you will often see examples of polyphyletic taxa.  You can further explore these polyphyletic taxa by coloring nodes by their environment, and you will often see that many of those polyphyletic groups are found in distinct environments."
      ]
    },
    {
      "cell_type": "markdown",
      "metadata": {
        "id": "tFuoGkWtptmR"
      },
      "source": [
        "<br><br><br>\n",
        "\n",
        "---\n",
        "\n",
        "# 🦠 Space for the Project Challenge\n",
        "\n",
        "You can start working on the project challenge here if you would like. If you rerun all the previous cells in the notebook (`Runtime > Run All`) you should be all set to start working on the challenge. Remember that you can get help in the Slack channel and also in the [Qiime 2 documentation](https://docs.qiime2.org)."
      ]
    },
    {
      "cell_type": "code",
      "metadata": {
        "id": "pq919yDYqYoe"
      },
      "source": [
        "# You can add more code cells with the \"+ Code\" button on the top right\n"
      ],
      "execution_count": null,
      "outputs": []
    }
  ]
}